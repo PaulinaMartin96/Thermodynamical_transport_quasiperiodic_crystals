{
 "cells": [
  {
   "cell_type": "code",
   "execution_count": 2,
   "id": "2363ec9a",
   "metadata": {},
   "outputs": [
    {
     "data": {
      "text/plain": [
       "Dict{Any, Any}()"
      ]
     },
     "execution_count": 2,
     "metadata": {},
     "output_type": "execute_result"
    }
   ],
   "source": [
    "time_per_function_dictionary = Dict()"
   ]
  },
  {
   "cell_type": "code",
   "execution_count": 3,
   "id": "88fa5352",
   "metadata": {},
   "outputs": [
    {
     "data": {
      "text/plain": [
       "Dict{String, String} with 4 entries:\n",
       "  \"@time\"       => \"0.000112 seconds\"\n",
       "  \"@btime\"      => \"2.852 μs\"\n",
       "  \"memory\"      => \"6.25 KiB\"\n",
       "  \"allocations\" => \"108\""
      ]
     },
     "execution_count": 3,
     "metadata": {},
     "output_type": "execute_result"
    }
   ],
   "source": [
    "time_per_function_dictionary[\"Segment([1,2],[1,3],2)\"] = Dict(\"@time\" => \"0.000003 seconds\", \"@btime\" => \"106.472 ns\", \"allocations\" => \"3\", \"memory\" => \"224 bytes\")\n",
    "\n",
    "time_per_function_dictionary[\"PolygonalLine([[1,2],[1,4],[2,4]],[A,B],5)\"] = Dict(\"@time\" => \"0.000013 seconds\", \"@btime\" => \"466.154 ns\", \"allocations\" => \"6\", \"memory\" => \"528 bytes\")\n",
    "\n",
    "time_per_function_dictionary[\"Polygon([[1,2],[1,4],[2,4]],[A,B],5,6)\"] = Dict(\"@time\" => \"0.000012 seconds\", \"@btime\" => \"470.408 ns\", \"allocations\" => \"6\", \"memory\" => \"544 bytes\")\n",
    "\n",
    "time_per_function_dictionary[\"Rhomboid([1,2],[[1,2],[1,4],[2,4]],[A,B],[2,3])\"] = Dict(\"@time\" => \"0.000015 seconds\", \"@btime\" => \"566.667 ns\", \"allocations\" => \"8\", \"memory\" => \"736 bytes\")\n",
    "\n",
    "time_per_function_dictionary[\"PolyhedricSurface([P1,P2,P3],9)\"] = Dict(\"@time\" => \"0.000014 seconds\", \"@btime\" => \"347.465 ns\", \"allocations\" => \"2\", \"memory\" => \"144 bytes\")\n",
    "\n",
    "time_per_function_dictionary[\"Polyhedron([P1,P2,P3],G1,5)\"] = Dict(\"@time\" => \"0.000015 seconds\", \"@btime\" => \"342.009 ns\", \"allocations\" => \"2\", \"memory\" => \"144 bytes\")\n",
    "\n",
    "time_per_function_dictionary[\"polygonalline([A,B])\"] = Dict(\"@time\" => \"0.000026 seconds\", \"@btime\" => \"2.089 μs\", \"allocations\" => \"13\", \"memory\" => \"1.20 KiB\")\n",
    "\n",
    "time_per_function_dictionary[\"polygon_area([[1,1],[1,-1],[-1,1],[-1,-1]])\"] = Dict(\"@time\" => \"0.000006 seconds\", \"@btime\" => \"450.254 ns\", \"allocations\" => \"8\", \"memory\" => \"816 bytes\")\n",
    "\n",
    "time_per_function_dictionary[\"Polygon([[1,1],[1,-1],[-1,1],[-1,-1]])\"] = Dict(\"@time\" => \"0.000018 seconds\", \"@btime\" => \"1.460 μs\", \"allocations\" => \"26\", \"memory\" => \"2.11 KiB\")\n",
    "\n",
    "time_per_function_dictionary[\"rhomboid([2,2],[1,1],:vertical)\"] = Dict(\"@time\" => \"0.000027 seconds\", \"@btime\" => \"1.480 μs\", \"allocations\" => \"22\", \"memory\" => \"1.69 KiB\")\n",
    "\n",
    "time_per_function_dictionary[\"point_on_segment([1,2], A)\"] = Dict(\"@time\" => \"0.000028 seconds\", \"@btime\" => \"399.165 ns\", \"allocations\" => \"3\", \"memory\" => \"144 bytes\")\n",
    "\n",
    "time_per_function_dictionary[\"intersection(p::Vector{T}, s::Segment{T})([1,2],A)\"] = Dict(\"@time\" => \"0.000017 seconds\", \"@btime\" => \"252.771 ns\", \"allocations\" => \"4\", \"memory\" => \"160 bytes\")\n",
    "\n",
    "time_per_function_dictionary[\"cross_product([1,2],[3,3],[2,2])\"] = Dict(\"@time\" => \"0.000007 seconds\", \"@btime\" => \"278.397 ns\", \"allocations\" => \"14\", \"memory\" => \"1.05 KiB\")\n",
    "\n",
    "time_per_function_dictionary[\"intersection(s1::Segment{T}, s2::Segment{T})(A,B)\"] = Dict(\"@time\" => \"0.000017 seconds\", \"@btime\" => \"952.381 ns\", \"allocations\" => \"46\", \"memory\" => \"3.36 KiB\")\n",
    "\n",
    "time_per_function_dictionary[\"point_on_polygon_frontier([1,2.],P1)\"] = Dict(\"@time\" => \"0.000038 second\", \"@btime\" => \"389.580 ns\", \"allocations\" => \"7\", \"memory\" => \"272 bytes\")\n",
    "\n",
    "time_per_function_dictionary[\"point_on_polygon_frontier([1,2.],R)\"] = Dict(\"@time\" => \"0.000020 seconds\", \"@btime\" => \"300.490 n\", \"allocations\" => \"5\", \"memory\" => \"224 bytes\")\n",
    "\n",
    "time_per_function_dictionary[\"point_inside_polygon([1,2.],P1)\"] = Dict(\"@time\" => \"0.000020 seconds\", \"@btime\" => \"380.542 ns\", \"allocations\" => \"7\", \"memory\" => \"272 bytes\")\n",
    "\n",
    "time_per_function_dictionary[\"point_inside_polygon([1,2.],R)\"] = Dict(\"@time\" => \"0.000021 seconds\", \"@btime\" => \"295.802 ns\", \"allocations\" => \"5\", \"memory\" => \"224 bytes\")\n",
    "\n",
    "\n",
    "time_per_function_dictionary[\"Mesh([62,34.],[10.,24],[R,R1],[[12,23.],[12,12.]],P1,true)\"] = Dict(\"@time\" => \"0.000001 seconds\", \"@btime\" => \"0.833 ns\", \"allocations\" => \"0\", \"memory\" => \"0 bytes\")\n",
    "\n",
    "time_per_function_dictionary[\"rectangular_stripe\"] = Dict(\"@time\" => \"0.000001 seconds\", \"@btime\" => \"0.875 ns\", \"allocations\" => \"0\", \"memory\" => \"0 bytes\")\n",
    "\n",
    "time_per_function_dictionary[\"r_mesh_frontier\"] = Dict(\"@time\" => \"0.000001 seconds\", \"@btime\" => \"0.875 ns\", \"allocations\" => \"0\", \"memory\" => \"0 bytes\")\n",
    "\n",
    "time_per_function_dictionary[\"r_mesh_nofrontier\"] = Dict(\"@time\" => \"0.000002 seconds\", \"@btime\" => \"0.875 ns\", \"allocations\" => \"0\", \"memory\" => \"0 bytes\")\n",
    "\n",
    "time_per_function_dictionary[\"find_cell([1.,2], mesh1)\"] = Dict(\"@time\" => \"0.000020 second\", \"@btime\" => \"521.162 ns\", \"allocations\" => \"8\", \"memory\" => \"448 bytes\")\n",
    "\n",
    "\n",
    "time_per_function_dictionary[\"Hard_Disk(1,[3,1],[2,2],5,1)\"] = Dict(\"@time\" => \"0.000001 seconds\", \"@btime\" => \"0.833 ns\", \"allocations\" => \"0\", \"memory\" => \"0 bytes\")\n",
    "\n",
    "time_per_function_dictionary[\"Particle(2,[2,3],[2,2],[0,1],[1,1],3)\"] = Dict(\"@time\" => \"0.000001 seconds\", \"@btime\" => \"0.833 ns\", \"allocations\" => \"0\", \"memory\" => \"0 bytes\")\n",
    "\n",
    "time_per_function_dictionary[\"MRU(5, [2,2], [0,0], :x)\"] = Dict(\"@time\" => \"0.000025 seconds\", \"@btime\" => \"613.029 ns\", \"allocations\" => \"8\", \"memory\" => \"320 bytes\")\n",
    "\n",
    "time_per_function_dictionary[\"x_disk([2,2], 6, 2)\"] = Dict(\"@time\" => \"0.000010 second\", \"@btime\" => \"251.142 ns\", \"allocations\" => \"4\", \"memory\" => \"160 bytes\")\n",
    "\n",
    "time_per_function_dictionary[\"y_disk([2,2], 6, 2)\"] = Dict(\"@time\" => \"0.000008 seconds\", \"@btime\" => \"251.221 ns\", \"allocations\" => \"4\", \"memory\" => \"160 bytes\")\n",
    "\n",
    "\n",
    "time_per_function_dictionary[\"x_particle([2,2], [1,2],4)\"] = Dict(\"@time\" => \"0.000011 seconds\", \"@btime\" => \"502.803 ns\", \"allocations\" => \"8\", \"memory\" => \"320 bytes\")\n",
    "\n",
    "time_per_function_dictionary[\"y_particle([2,2], [1,2],4)\"] = Dict(\"@time\" => \"0.000007 seconds\", \"@btime\" => \"503.021 ns\", \"allocations\" => \"8\", \"memory\" => \"320 bytes\")\n",
    "\n",
    "time_per_function_dictionary[\"projection([1,2],[2,1])\"] = Dict(\"@time\" => \"0.000021 seconds\", \"@btime\" => \"510.575 ns\", \"allocations\" => \"8\", \"memory\" => \"320 bytes\")\n",
    "\n",
    "time_per_function_dictionary[\"find_normal_vector([1,2])\"] = Dict(\"@time\" => \"0.000048 second\", \"@btime\" => \"1.300 μs\", \"allocations\" => \"17\", \"memory\" => \"1.53 KiB\")\n",
    "\n",
    "time_per_function_dictionary[\"find_tangential_vector([1,2])\"] = Dict(\"@time\" => \"0.000016 seconds\", \"@btime\" => \"276.264 ns\", \"allocations\" => \"5\", \"memory\" => \"240 bytes\")\n",
    "\n",
    "\n",
    "time_per_function_dictionary[\"normal_velocity([2,2])\"] = Dict(\"@time\" => \"0.000028 seconds\", \"@btime\" => \"2.380 μs\", \"allocations\" => \"32\", \"memory\" => \"3.02 KiB\")\n",
    "\n",
    "time_per_function_dictionary[\"tangential_velocity([2,2])\"] = Dict(\"@time\" => \"0.000019 seconds\", \"@btime\" => \"329.076 ns\", \"allocations\" => \"7\", \"memory\" => \"400 bytes\")\n",
    "\n",
    "time_per_function_dictionary[\"θ = Θ(4, 3, :z)\"] = Dict(\"@time\" => \"0.000000 seconds\", \"@btime\" => \"0.001 ns\", \"allocations\" => \"0\", \"memory\" => \"0 bytes\")\n",
    "\n",
    "time_per_function_dictionary[\"η(Θ, p_mass = 1, d_radius = 0.5)\"] = Dict(\"@time\" => \"0.000012 second\", \"@btime\" => \"174.620 ns\", \"allocations\" => \"3\", \"memory\" => \"48 bytes\")\n",
    "\n",
    "time_per_function_dictionary[\"disk1\"] = Dict(\"@time\" => \"0.000001 seconds\", \"@btime\" => \"0.833 ns\", \"allocations\" => \"0\", \"memory\" => \"0 bytes\")\n",
    "\n",
    "\n",
    "time_per_function_dictionary[\"particle1\"] = Dict(\"@time\" => \"0.000001 seconds\", \"@btime\" => \"0.875 ns\", \"allocations\" => \"0\", \"memory\" => \"0 bytes\")\n",
    "\n",
    "time_per_function_dictionary[\"find_cell(disk_position, r_mesh_frontier)\"] = Dict(\"@time\" => \"0.000433 seconds\", \"@btime\" => \"164.917 μs\", \"allocations\" => \"7795\", \"memory\" => \"400 bytes\")\n",
    "\n",
    "\n",
    "\n",
    "time_per_function_dictionary[\"select_time([1,9])\"] = Dict(\"@time\" => \"0.000003 seconds\", \"@btime\" => \"18.996 ns\", \"allocations\" => \"1\", \"memory\" => \"80 bytes\")\n",
    "\n",
    "time_per_function_dictionary[\"particle_segment_intersection(particle0, s0)\"] = Dict(\"@time\" => \"0.000015 second\", \"@btime\" => \"288.018 ns\", \"allocations\" => \"3\", \"memory\" => \"160 bytes\")\n",
    "\n",
    "time_per_function_dictionary[\"identify_segment_type(P1)\"] = Dict(\"@time\" => \"0.000073 seconds\", \"@btime\" => \"952.050 ns\", \"allocations\" => \"22\", \"memory\" => \"1.02 KiB\")\n",
    "\n",
    "time_per_function_dictionary[\"polygon_on_frontier(R,P1)\"] = Dict(\"@time\" => \"0.000019 second\", \"@btime\" => \"119.100 ns\", \"allocations\" => \"3\", \"memory\" => \"112 bytes\")\n",
    "\n",
    "time_per_function_dictionary[\"particle_segment_intersection(particle1, rhomboid1.segments[4])\"] = Dict(\"@time\" => \"0.000047 seconds\", \"@btime\" => \"313.456 ns\", \"allocations\" => \"3\", \"memory\" => \"160 bytes\")\n",
    "\n",
    "time_per_function_dictionary[\"particle_polygon_frontier_intersection(particle1, rhomboid1)\"] = Dict(\"@time\" => \"0.000428 second\", \"@btime\" => \"137.542 μs\", \"allocations\" => \"43\", \"memory\" => \"2.23 KiB\")\n",
    "\n",
    "\n",
    "\n",
    "\n",
    "time_per_function_dictionary[\"is_horizontal(A)\"] = Dict(\"@time\" => \"0.000025 second\", \"@btime\" => \"8.458 ns\", \"allocations\" => \"0\", \"memory\" => \"0 bytes\")\n",
    "\n",
    "time_per_function_dictionary[\"is_vertical(A)\"] = Dict(\"@time\" => \"0.000006 seconds\", \"@btime\" => \"8.167 ns\", \"allocations\" => \"0\", \"memory\" => \"0 bytes\")\n",
    "\n",
    "time_per_function_dictionary[\"Mesh_Frontier(P1,[A,B],[[5,2],[6,2],[7,9]],A1,A2,A3,A4,9)\"] = Dict(\"@time\" => \"0.000022 second\", \"@btime\" => \"1.304 μs\", \"allocations\" => \"12\", \"memory\" => \"656 bytes\")\n",
    "\n",
    "time_per_function_dictionary[\"mesh_frontier(P1)\"] = Dict(\"@time\" => \"0.000112 seconds\", \"@btime\" => \"2.852 μs\", \"allocations\" => \"108\", \"memory\" => \"6.25 KiB\")\n",
    "\n",
    "\n",
    "\n",
    "\n",
    "\n",
    "\n",
    "\n",
    "\n",
    "\n",
    "\n"
   ]
  },
  {
   "cell_type": "code",
   "execution_count": 4,
   "id": "e7ad2d18",
   "metadata": {},
   "outputs": [
    {
     "data": {
      "text/plain": [
       "Dict{Any, Any} with 50 entries:\n",
       "  \"point_inside_polygon([1… => Dict(\"@time\"=>\"0.000020 seconds\", \"@btime\"=>\"380…\n",
       "  \"PolyhedricSurface([P1,P… => Dict(\"@time\"=>\"0.000014 seconds\", \"@btime\"=>\"347…\n",
       "  \"projection([1,2],[2,1])\" => Dict(\"@time\"=>\"0.000021 seconds\", \"@btime\"=>\"510…\n",
       "  \"disk1\"                   => Dict(\"@time\"=>\"0.000001 seconds\", \"@btime\"=>\"0.8…\n",
       "  \"Hard_Disk(1,[3,1],[2,2]… => Dict(\"@time\"=>\"0.000001 seconds\", \"@btime\"=>\"0.8…\n",
       "  \"y_particle([2,2], [1,2]… => Dict(\"@time\"=>\"0.000007 seconds\", \"@btime\"=>\"503…\n",
       "  \"Segment([1,2],[1,3],2)\"  => Dict(\"@time\"=>\"0.000003 seconds\", \"@btime\"=>\"106…\n",
       "  \"cross_product([1,2],[3,… => Dict(\"@time\"=>\"0.000007 seconds\", \"@btime\"=>\"278…\n",
       "  \"intersection(p::Vector{… => Dict(\"@time\"=>\"0.000017 seconds\", \"@btime\"=>\"252…\n",
       "  \"Mesh([62,34.],[10.,24],… => Dict(\"@time\"=>\"0.000001 seconds\", \"@btime\"=>\"0.8…\n",
       "  \"Polyhedron([P1,P2,P3],G… => Dict(\"@time\"=>\"0.000015 seconds\", \"@btime\"=>\"342…\n",
       "  \"mesh_frontier(P1)\"       => Dict(\"@time\"=>\"0.000112 seconds\", \"@btime\"=>\"2.8…\n",
       "  \"y_disk([2,2], 6, 2)\"     => Dict(\"@time\"=>\"0.000008 seconds\", \"@btime\"=>\"251…\n",
       "  \"normal_velocity([2,2])\"  => Dict(\"@time\"=>\"0.000028 seconds\", \"@btime\"=>\"2.3…\n",
       "  \"particle1\"               => Dict(\"@time\"=>\"0.000001 seconds\", \"@btime\"=>\"0.8…\n",
       "  \"point_on_polygon_fronti… => Dict(\"@time\"=>\"0.000020 seconds\", \"@btime\"=>\"300…\n",
       "  \"x_particle([2,2], [1,2]… => Dict(\"@time\"=>\"0.000011 seconds\", \"@btime\"=>\"502…\n",
       "  \"rectangular_stripe\"      => Dict(\"@time\"=>\"0.000001 seconds\", \"@btime\"=>\"0.8…\n",
       "  \"intersection(s1::Segmen… => Dict(\"@time\"=>\"0.000017 seconds\", \"@btime\"=>\"952…\n",
       "  \"Rhomboid([1,2],[[1,2],[… => Dict(\"@time\"=>\"0.000015 seconds\", \"@btime\"=>\"566…\n",
       "  \"find_cell(disk_position… => Dict(\"@time\"=>\"0.000433 seconds\", \"@btime\"=>\"164…\n",
       "  \"Polygon([[1,2],[1,4],[2… => Dict(\"@time\"=>\"0.000012 seconds\", \"@btime\"=>\"470…\n",
       "  \"is_vertical(A)\"          => Dict(\"@time\"=>\"0.000006 seconds\", \"@btime\"=>\"8.1…\n",
       "  \"PolygonalLine([[1,2],[1… => Dict(\"@time\"=>\"0.000013 seconds\", \"@btime\"=>\"466…\n",
       "  \"rhomboid([2,2],[1,1],:v… => Dict(\"@time\"=>\"0.000027 seconds\", \"@btime\"=>\"1.4…\n",
       "  ⋮                         => ⋮"
      ]
     },
     "execution_count": 4,
     "metadata": {},
     "output_type": "execute_result"
    }
   ],
   "source": [
    "time_per_function_dictionary"
   ]
  },
  {
   "cell_type": "code",
   "execution_count": null,
   "id": "82254eaa",
   "metadata": {},
   "outputs": [],
   "source": []
  }
 ],
 "metadata": {
  "kernelspec": {
   "display_name": "Julia 1.7.2",
   "language": "julia",
   "name": "julia-1.7"
  },
  "language_info": {
   "file_extension": ".jl",
   "mimetype": "application/julia",
   "name": "julia",
   "version": "1.7.2"
  }
 },
 "nbformat": 4,
 "nbformat_minor": 5
}
