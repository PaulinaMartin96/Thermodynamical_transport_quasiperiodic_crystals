{
 "cells": [
  {
   "cell_type": "code",
   "execution_count": 2,
   "id": "2363ec9a",
   "metadata": {},
   "outputs": [
    {
     "data": {
      "text/plain": [
       "Dict{Any, Any}()"
      ]
     },
     "execution_count": 2,
     "metadata": {},
     "output_type": "execute_result"
    }
   ],
   "source": [
    "time_per_function_dictionary = Dict()"
   ]
  },
  {
   "cell_type": "code",
   "execution_count": 3,
   "id": "88fa5352",
   "metadata": {},
   "outputs": [
    {
     "data": {
      "text/plain": [
       "Dict{String, String} with 4 entries:\n",
       "  \"@time\"       => \"0.000021 seconds\"\n",
       "  \"@btime\"      => \"295.802 ns\"\n",
       "  \"memory\"      => \"224 bytes\"\n",
       "  \"allocations\" => \"5\""
      ]
     },
     "execution_count": 3,
     "metadata": {},
     "output_type": "execute_result"
    }
   ],
   "source": [
    "time_per_function_dictionary[\"Segment([1,2],[1,3],2)\"] = Dict(\"@time\" => \"0.000003 seconds\", \"@btime\" => \"106.472 ns\", \"allocations\" => \"3\", \"memory\" => \"224 bytes\")\n",
    "\n",
    "time_per_function_dictionary[\"PolygonalLine([[1,2],[1,4],[2,4]],[A,B],5)\"] = Dict(\"@time\" => \"0.000013 seconds\", \"@btime\" => \"466.154 ns\", \"allocations\" => \"6\", \"memory\" => \"528 bytes\")\n",
    "\n",
    "time_per_function_dictionary[\"Polygon([[1,2],[1,4],[2,4]],[A,B],5,6)\"] = Dict(\"@time\" => \"0.000012 seconds\", \"@btime\" => \"470.408 ns\", \"allocations\" => \"6\", \"memory\" => \"544 bytes\")\n",
    "\n",
    "time_per_function_dictionary[\"Rhomboid([1,2],[[1,2],[1,4],[2,4]],[A,B],[2,3])\"] = Dict(\"@time\" => \"0.000015 seconds\", \"@btime\" => \"566.667 ns\", \"allocations\" => \"8\", \"memory\" => \"736 bytes\")\n",
    "\n",
    "time_per_function_dictionary[\"PolyhedricSurface([P1,P2,P3],9)\"] = Dict(\"@time\" => \"0.000014 seconds\", \"@btime\" => \"347.465 ns\", \"allocations\" => \"2\", \"memory\" => \"144 bytes\")\n",
    "\n",
    "time_per_function_dictionary[\"Polyhedron([P1,P2,P3],G1,5)\"] = Dict(\"@time\" => \"0.000015 seconds\", \"@btime\" => \"342.009 ns\", \"allocations\" => \"2\", \"memory\" => \"144 bytes\")\n",
    "\n",
    "time_per_function_dictionary[\"polygonalline([A,B])\"] = Dict(\"@time\" => \"0.000026 seconds\", \"@btime\" => \"2.089 μs\", \"allocations\" => \"13\", \"memory\" => \"1.20 KiB\")\n",
    "\n",
    "time_per_function_dictionary[\"polygon_area([[1,1],[1,-1],[-1,1],[-1,-1]])\"] = Dict(\"@time\" => \"0.000006 seconds\", \"@btime\" => \"450.254 ns\", \"allocations\" => \"8\", \"memory\" => \"816 bytes\")\n",
    "\n",
    "time_per_function_dictionary[\"Polygon([[1,1],[1,-1],[-1,1],[-1,-1]])\"] = Dict(\"@time\" => \"0.000018 seconds\", \"@btime\" => \"1.460 μs\", \"allocations\" => \"26\", \"memory\" => \"2.11 KiB\")\n",
    "\n",
    "time_per_function_dictionary[\"rhomboid([2,2],[1,1],:vertical)\"] = Dict(\"@time\" => \"0.000027 seconds\", \"@btime\" => \"1.480 μs\", \"allocations\" => \"22\", \"memory\" => \"1.69 KiB\")\n",
    "\n",
    "time_per_function_dictionary[\"point_on_segment([1,2], A)\"] = Dict(\"@time\" => \"0.000028 seconds\", \"@btime\" => \"399.165 ns\", \"allocations\" => \"3\", \"memory\" => \"144 bytes\")\n",
    "\n",
    "time_per_function_dictionary[\"intersection(p::Vector{T}, s::Segment{T})([1,2],A)\"] = Dict(\"@time\" => \"0.000017 seconds\", \"@btime\" => \"252.771 ns\", \"allocations\" => \"4\", \"memory\" => \"160 bytes\")\n",
    "\n",
    "time_per_function_dictionary[\"cross_product([1,2],[3,3],[2,2])\"] = Dict(\"@time\" => \"0.000007 seconds\", \"@btime\" => \"278.397 ns\", \"allocations\" => \"14\", \"memory\" => \"1.05 KiB\")\n",
    "\n",
    "time_per_function_dictionary[\"intersection(s1::Segment{T}, s2::Segment{T})(A,B)\"] = Dict(\"@time\" => \"0.000017 seconds\", \"@btime\" => \"952.381 ns\", \"allocations\" => \"46\", \"memory\" => \"3.36 KiB\")\n",
    "\n",
    "time_per_function_dictionary[\"point_on_polygon_frontier([1,2.],P1)\"] = Dict(\"@time\" => \"0.000038 second\", \"@btime\" => \"389.580 ns\", \"allocations\" => \"7\", \"memory\" => \"272 bytes\")\n",
    "\n",
    "time_per_function_dictionary[\"point_on_polygon_frontier([1,2.],R)\"] = Dict(\"@time\" => \"0.000020 seconds\", \"@btime\" => \"300.490 n\", \"allocations\" => \"5\", \"memory\" => \"224 bytes\")\n",
    "\n",
    "time_per_function_dictionary[\"point_inside_polygon([1,2.],P1)\"] = Dict(\"@time\" => \"0.000020 seconds\", \"@btime\" => \"380.542 ns\", \"allocations\" => \"7\", \"memory\" => \"272 bytes\")\n",
    "\n",
    "time_per_function_dictionary[\"point_inside_polygon([1,2.],R)\"] = Dict(\"@time\" => \"0.000021 seconds\", \"@btime\" => \"295.802 ns\", \"allocations\" => \"5\", \"memory\" => \"224 bytes\")\n",
    "\n",
    "\n",
    "time_per_function_dictionary[\"Mesh([62,34.],[10.,24],[R,R1],[[12,23.],[12,12.]],P1,true)\"] = Dict(\"@time\" => \"0.000001 seconds\", \"@btime\" => \"0.833 ns\", \"allocations\" => \"0\", \"memory\" => \"0 bytes\")\n",
    "\n",
    "time_per_function_dictionary[\"rectangular_stripe\"] = Dict(\"@time\" => \"0.000001 seconds\", \"@btime\" => \"0.875 ns\", \"allocations\" => \"0\", \"memory\" => \"0 bytes\")\n",
    "\n",
    "time_per_function_dictionary[\"r_mesh_frontier\"] = Dict(\"@time\" => \"0.000001 seconds\", \"@btime\" => \"0.875 ns\", \"allocations\" => \"0\", \"memory\" => \"0 bytes\")\n",
    "\n",
    "time_per_function_dictionary[\"r_mesh_nofrontier\"] = Dict(\"@time\" => \"0.000002 seconds\", \"@btime\" => \"0.875 ns\", \"allocations\" => \"0\", \"memory\" => \"0 bytes\")\n",
    "\n",
    "time_per_function_dictionary[\"find_cell([1.,2], mesh1)\"] = Dict(\"@time\" => \"0.000020 second\", \"@btime\" => \"521.162 ns\", \"allocations\" => \"8\", \"memory\" => \"448 bytes\")\n",
    "\n",
    "\n",
    "\n"
   ]
  },
  {
   "cell_type": "code",
   "execution_count": 4,
   "id": "e7ad2d18",
   "metadata": {},
   "outputs": [
    {
     "data": {
      "text/plain": [
       "Dict{Any, Any} with 18 entries:\n",
       "  \"intersection(p::Vector{… => Dict(\"@time\"=>\"0.000017 seconds\", \"@btime\"=>\"252…\n",
       "  \"Polyhedron([P1,P2,P3],G… => Dict(\"@time\"=>\"0.000015 seconds\", \"@btime\"=>\"342…\n",
       "  \"Polygon([[1,1],[1,-1],[… => Dict(\"@time\"=>\"0.000018 seconds\", \"@btime\"=>\"1.4…\n",
       "  \"point_on_segment([1,2],… => Dict(\"@time\"=>\"0.000028 seconds\", \"@btime\"=>\"399…\n",
       "  \"point_inside_polygon([1… => Dict(\"@time\"=>\"0.000020 seconds\", \"@btime\"=>\"380…\n",
       "  \"point_on_polygon_fronti… => Dict(\"@time\"=>\"0.000020 seconds\", \"@btime\"=>\"300…\n",
       "  \"PolyhedricSurface([P1,P… => Dict(\"@time\"=>\"0.000014 seconds\", \"@btime\"=>\"347…\n",
       "  \"polygonalline([A,B])\"    => Dict(\"@time\"=>\"0.000026 seconds\", \"@btime\"=>\"2.0…\n",
       "  \"intersection(s1::Segmen… => Dict(\"@time\"=>\"0.000017 seconds\", \"@btime\"=>\"952…\n",
       "  \"polygon_area([[1,1],[1,… => Dict(\"@time\"=>\"0.000006 seconds\", \"@btime\"=>\"450…\n",
       "  \"Rhomboid([1,2],[[1,2],[… => Dict(\"@time\"=>\"0.000015 seconds\", \"@btime\"=>\"566…\n",
       "  \"point_on_polygon_fronti… => Dict(\"@time\"=>\"0.000038 second\", \"@btime\"=>\"389.…\n",
       "  \"point_inside_polygon([1… => Dict(\"@time\"=>\"0.000021 seconds\", \"@btime\"=>\"295…\n",
       "  \"Polygon([[1,2],[1,4],[2… => Dict(\"@time\"=>\"0.000012 seconds\", \"@btime\"=>\"470…\n",
       "  \"Segment([1,2],[1,3],2)\"  => Dict(\"@time\"=>\"0.000003 seconds\", \"@btime\"=>\"106…\n",
       "  \"PolygonalLine([[1,2],[1… => Dict(\"@time\"=>\"0.000013 seconds\", \"@btime\"=>\"466…\n",
       "  \"rhomboid([2,2],[1,1],:v… => Dict(\"@time\"=>\"0.000027 seconds\", \"@btime\"=>\"1.4…\n",
       "  \"cross_product([1,2],[3,… => Dict(\"@time\"=>\"0.000007 seconds\", \"@btime\"=>\"278…"
      ]
     },
     "execution_count": 4,
     "metadata": {},
     "output_type": "execute_result"
    }
   ],
   "source": [
    "time_per_function_dictionary"
   ]
  },
  {
   "cell_type": "code",
   "execution_count": null,
   "id": "82254eaa",
   "metadata": {},
   "outputs": [],
   "source": []
  }
 ],
 "metadata": {
  "kernelspec": {
   "display_name": "Julia 1.7.2",
   "language": "julia",
   "name": "julia-1.7"
  },
  "language_info": {
   "file_extension": ".jl",
   "mimetype": "application/julia",
   "name": "julia",
   "version": "1.7.2"
  }
 },
 "nbformat": 4,
 "nbformat_minor": 5
}
